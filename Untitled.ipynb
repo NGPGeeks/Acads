{
 "cells": [
  {
   "cell_type": "code",
   "execution_count": 4,
   "id": "a972edfa",
   "metadata": {},
   "outputs": [
    {
     "name": "stdout",
     "output_type": "stream",
     "text": [
      "Enter angle 130\n",
      "Enter angle 260\n",
      "Enter angle 390\n",
      "Valid triangle\n"
     ]
    }
   ],
   "source": [
    "# WAP to enter angles of a triangle and see if they form a triangle or not.\n",
    "a=int(input(\"Enter angle 1\"))\n",
    "b=int(input(\"Enter angle 2\"))\n",
    "c=int(input(\"Enter angle 3\"))\n",
    "angle=a+b+c\n",
    "if (angle==180 and a>0 and b>0 and c>0):\n",
    "    print(\"Valid triangle\")\n",
    "else:\n",
    "    print(\"Invalid triangle\")"
   ]
  },
  {
   "cell_type": "code",
   "execution_count": 2,
   "id": "e7e13194",
   "metadata": {},
   "outputs": [
    {
     "name": "stdout",
     "output_type": "stream",
     "text": [
      "Enter point x1- 4\n",
      "Enter point y1- 5\n",
      "Enter point x2- 6\n",
      "Enter point y2- 7\n",
      "The distance between the points is 2.8284271247461903\n"
     ]
    }
   ],
   "source": [
    "# WAP to enter 2 points and calculate distance between them.\n",
    "x1=float(input(\"Enter point x1- \"))\n",
    "y1=float(input(\"Enter point y1- \"))\n",
    "x2=float(input(\"Enter point x2- \"))\n",
    "y2=float(input(\"Enter point y2- \"))\n",
    "d=(((x2-x1)**2 + (y2-y1)**2)**0.5)\n",
    "print(\"The distance between the points is\",d)"
   ]
  },
  {
   "cell_type": "code",
   "execution_count": 8,
   "id": "1d64e094",
   "metadata": {},
   "outputs": [
    {
     "name": "stdout",
     "output_type": "stream",
     "text": [
      "Enter basic salary 27689.5\n",
      "Gross salary is 60916.899999999994\n"
     ]
    }
   ],
   "source": [
    "# WAP to input basic salary and calculate the gross salary.\n",
    "sal=float(input(\"Enter basic salary \"))\n",
    "if sal<=10000:\n",
    "    sal=sal+(0.2*sal)+(0.8*sal)\n",
    "if sal<=20000:\n",
    "    sal=sal+(0.25*sal)+(0.85*sal)\n",
    "if sal<=30000:\n",
    "    sal=sal+(0.3*sal)+(0.9*sal)\n",
    "else:\n",
    "    print(\"Enter salary less than 30000.\")\n",
    "print(\"Gross salary is\", sal)"
   ]
  },
  {
   "cell_type": "code",
   "execution_count": 16,
   "id": "563881e4",
   "metadata": {},
   "outputs": [
    {
     "name": "stdout",
     "output_type": "stream",
     "text": [
      "* * * \n",
      "* * * \n",
      "* * * \n",
      "* * * \n"
     ]
    }
   ],
   "source": [
    "for i in range (0,4):\n",
    "    for j in range (0,3):\n",
    "        print(\"*\", end=\" \")\n",
    "    print(\"\")"
   ]
  },
  {
   "cell_type": "code",
   "execution_count": 7,
   "id": "66b0375f",
   "metadata": {},
   "outputs": [
    {
     "name": "stdout",
     "output_type": "stream",
     "text": [
      "1 3 5 7 9 11 13 15 17 19 "
     ]
    }
   ],
   "source": [
    "#WAP to print odd numbers.\n",
    "for i in range (1,20,2):\n",
    "    print (i, end=\" \")\n",
    "    "
   ]
  },
  {
   "cell_type": "code",
   "execution_count": 5,
   "id": "73f1dff1",
   "metadata": {},
   "outputs": [
    {
     "name": "stdout",
     "output_type": "stream",
     "text": [
      "The set of keywords in this version is: \n",
      "['False', 'None', 'True', '__peg_parser__', 'and', 'as', 'assert', 'async', 'await', 'break', 'class', 'continue', 'def', 'del', 'elif', 'else', 'except', 'finally', 'for', 'from', 'global', 'if', 'import', 'in', 'is', 'lambda', 'nonlocal', 'not', 'or', 'pass', 'raise', 'return', 'try', 'while', 'with', 'yield']\n"
     ]
    }
   ],
   "source": [
    "# importing keyword library which has lists  \n",
    "import keyword  \n",
    "    \n",
    "# displaying the complete list using \"kwlist().\"  \n",
    "print(\"The set of keywords in this version is: \")  \n",
    "print( keyword.kwlist ) "
   ]
  },
  {
   "cell_type": "code",
   "execution_count": 12,
   "id": "c5d92b0c",
   "metadata": {},
   "outputs": [
    {
     "name": "stdout",
     "output_type": "stream",
     "text": [
      "1 3 5 7 9 11 13 15 17 19 \n",
      " = 100\n"
     ]
    }
   ],
   "source": [
    "#WAP to print odd numbers and get its sum.\n",
    "sum=0\n",
    "for i in range (1,20,2):\n",
    "    sum+=i\n",
    "    print (i, end=\" \")\n",
    "print(\"\\n\",\"=\",sum)\n",
    "    "
   ]
  },
  {
   "cell_type": "code",
   "execution_count": 21,
   "id": "7a222d73",
   "metadata": {},
   "outputs": [
    {
     "name": "stdout",
     "output_type": "stream",
     "text": [
      "Enter number:5\n",
      "0.5 0.25 0.125 0.0625 0.03125 \n",
      " = 0.96875\n"
     ]
    }
   ],
   "source": [
    "n=int(input(\"Enter number:\"))\n",
    "sum=0\n",
    "for i in range (1,n+1):\n",
    "    elements=1/(2**i)\n",
    "    print(elements, end=\" \")\n",
    "    sum+=elements\n",
    "print(\"\\n\",\"=\",sum)"
   ]
  },
  {
   "cell_type": "code",
   "execution_count": 9,
   "id": "cde43fb5",
   "metadata": {},
   "outputs": [
    {
     "name": "stdout",
     "output_type": "stream",
     "text": [
      "1 23 29 31 37 41 43 47 53 59 61 67 71 73 79 83 89 97 "
     ]
    }
   ],
   "source": [
    "#WAP to print all numbers from 1 to 100 that are not divisible by 2,3,5,7,11,13,17,19.\n",
    "def divisible(x):\n",
    "    if(x%2==0 or x%3==0 or x%5==0 or x%7==0 or x%11==0 or x%13==0 or x%17==0 or x%19==0):\n",
    "        return True\n",
    "    return False\n",
    "\n",
    "for i in  range (1,100):\n",
    "    if(not divisible(i)):\n",
    "        print (i, end=\" \")"
   ]
  },
  {
   "cell_type": "code",
   "execution_count": 15,
   "id": "ebf043bd",
   "metadata": {},
   "outputs": [
    {
     "name": "stdout",
     "output_type": "stream",
     "text": [
      "Enter first number - 11\n",
      "Enter second number - 110\n",
      "The HCF of 11 and 110 is 11\n"
     ]
    }
   ],
   "source": [
    "# WAP to find HCF (GCD) of two numbers.\n",
    "num1=int(input(\"Enter first number - \"))\n",
    "num2=int(input(\"Enter second number - \"))\n",
    "i=1\n",
    "while(i<=num1 and i<=num2):\n",
    "    if(num1%i==0 and num2%i==0):\n",
    "        hcf=i\n",
    "    i+=1\n",
    "print(\"The HCF of\",num1,\"and\",num2,\"is\",hcf)\n"
   ]
  },
  {
   "cell_type": "code",
   "execution_count": 36,
   "id": "2fd0ef7e",
   "metadata": {},
   "outputs": [
    {
     "name": "stdout",
     "output_type": "stream",
     "text": [
      "Enter number153\n",
      "It is an armstrong number\n"
     ]
    }
   ],
   "source": [
    "# WAP to check whether a number is Armstrong number or not\n",
    "num=int(input(\"Enter number\"))\n",
    "sum=0\n",
    "temp=num\n",
    "while temp>0:\n",
    "    digit = temp % 10\n",
    "    sum += digit ** 3\n",
    "    temp //= 10\n",
    "if (num==sum):\n",
    "    print(\"It is an armstrong number\")\n",
    "else:\n",
    "    print(\"It is not an armstrong number\")"
   ]
  },
  {
   "cell_type": "code",
   "execution_count": 25,
   "id": "8ee48a11",
   "metadata": {},
   "outputs": [
    {
     "name": "stdout",
     "output_type": "stream",
     "text": [
      "Enter speed - 156\n",
      "Demerit points =  17\n",
      "Your license is suspended.\n"
     ]
    }
   ],
   "source": [
    "speed=int(input(\"Enter speed - \"))\n",
    "if(speed<70):\n",
    "    print(\"Ok\")\n",
    "else:\n",
    "    x=speed-70\n",
    "    demerit=x//5\n",
    "    print(\"Demerit points = \",demerit)\n",
    "    if(demerit>=12):\n",
    "        print(\"Your license is suspended.\")\n"
   ]
  },
  {
   "cell_type": "code",
   "execution_count": 27,
   "id": "33f55658",
   "metadata": {},
   "outputs": [
    {
     "name": "stdout",
     "output_type": "stream",
     "text": [
      "Enter number to be swapped12345\n",
      "54321\n"
     ]
    }
   ],
   "source": [
    "#WAP to swap first and last digits of a number.\n",
    "n=str(input(\"Enter number to be swapped\"))\n",
    "print(n[::-1])\n"
   ]
  },
  {
   "cell_type": "code",
   "execution_count": 32,
   "id": "ae96ab42",
   "metadata": {},
   "outputs": [
    {
     "name": "stdout",
     "output_type": "stream",
     "text": [
      "Enter number110\n",
      "Not Prime\n"
     ]
    }
   ],
   "source": [
    "from math import sqrt\n",
    "\n",
    "def checkPrime(n):\n",
    "    if n <= 1:\n",
    "        return 0\n",
    "    elif n == 2:\n",
    "        return 1\n",
    "    elif n % 2 == 0:\n",
    "        return 0\n",
    "    for i in range(3, int(sqrt(n)), 2):\n",
    "        if n % i == 0:\n",
    "            return 0\n",
    "    return 1\n",
    "\n",
    "n=int(input(\"Enter number\"))\n",
    "if checkPrime(n):\n",
    "    print(\"Prime Number\")\n",
    "else:\n",
    "    print(\"Not Prime\")"
   ]
  },
  {
   "cell_type": "code",
   "execution_count": null,
   "id": "3fcf1ec4",
   "metadata": {},
   "outputs": [],
   "source": []
  }
 ],
 "metadata": {
  "kernelspec": {
   "display_name": "Python 3 (ipykernel)",
   "language": "python",
   "name": "python3"
  },
  "language_info": {
   "codemirror_mode": {
    "name": "ipython",
    "version": 3
   },
   "file_extension": ".py",
   "mimetype": "text/x-python",
   "name": "python",
   "nbconvert_exporter": "python",
   "pygments_lexer": "ipython3",
   "version": "3.9.12"
  }
 },
 "nbformat": 4,
 "nbformat_minor": 5
}
