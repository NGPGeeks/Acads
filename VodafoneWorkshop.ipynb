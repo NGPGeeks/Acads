{
  "nbformat": 4,
  "nbformat_minor": 0,
  "metadata": {
    "colab": {
      "provenance": [],
      "collapsed_sections": [],
      "include_colab_link": true
    },
    "kernelspec": {
      "name": "python3",
      "display_name": "Python 3"
    },
    "language_info": {
      "name": "python"
    }
  },
  "cells": [
    {
      "cell_type": "markdown",
      "metadata": {
        "id": "view-in-github",
        "colab_type": "text"
      },
      "source": [
        "<a href=\"https://colab.research.google.com/github/NGPGeeks/Acads/blob/main/VodafoneWorkshop.ipynb\" target=\"_parent\"><img src=\"https://colab.research.google.com/assets/colab-badge.svg\" alt=\"Open In Colab\"/></a>"
      ]
    },
    {
      "cell_type": "code",
      "execution_count": null,
      "metadata": {
        "colab": {
          "base_uri": "https://localhost:8080/"
        },
        "id": "iQ5YZXgseUuL",
        "outputId": "94dfd2df-2a45-4c72-f6be-f62b9b07c03c"
      },
      "outputs": [
        {
          "output_type": "stream",
          "name": "stdout",
          "text": [
            "1.21.6\n",
            "[1, 2, 3, 4, 10, 11, 12, 13]\n",
            "[11 13 15 17]\n",
            "One dimensional array\n",
            "[ 1  6 10  3  8  9]\n",
            "Two dimensional array\n",
            "[[ 1  2  1  7]\n",
            " [10  8  5  2]\n",
            " [ 8  6  3  2]\n",
            " [ 5  0 10  3]\n",
            " [10  4  0  6]]\n",
            "Three dimensional array\n",
            "[[[10  6  9 10  5]\n",
            "  [ 7  0 10  2  5]]\n",
            "\n",
            " [[ 8  7  9  4  0]\n",
            "  [ 7  0  6  2  2]]\n",
            "\n",
            " [[ 0  8  1  6  8]\n",
            "  [ 2  9 10  2  7]]]\n",
            "Attributes of x3\n",
            "x3 ndim 3\n",
            "x3 shape (3, 2, 5)\n",
            "x3 size 30\n",
            "dtype: int64\n",
            "itemsize 8 bytes\n",
            "item nbytes 240 bytes\n"
          ]
        }
      ],
      "source": [
        "# Numpy Basics\n",
        "# Nagarpalika\n",
        "import numpy as np\n",
        "print(np.__version__)\n",
        "\n",
        "lst1 = [1,2,3,4]\n",
        "array1 = np.array(lst1)\n",
        "\n",
        "type(lst1)\n",
        "\n",
        "type(array1)\n",
        "\n",
        "lst2 = [10, 11, 12, 13]\n",
        "array2 = np.array(lst2)\n",
        "\n",
        "print(lst1+lst2)\n",
        "\n",
        "print(array1 + array2)\n",
        "\n",
        "np.random.seed(60)\n",
        "x1 = np.random.randint(11, size=6)\n",
        "x2 = np.random.randint(11, size=(5,4))\n",
        "x3 = np.random.randint(11, size=(3,2,5))\n",
        "\n",
        "print(\"One dimensional array\")\n",
        "print(x1)\n",
        "print(\"Two dimensional array\")\n",
        "print(x2)\n",
        "print(\"Three dimensional array\")\n",
        "print(x3)\n",
        "\n",
        "print(\"Attributes of x3\")\n",
        "print(\"x3 ndim\", x3.ndim)\n",
        "print(\"x3 shape\", x3.shape)\n",
        "print(\"x3 size\", x3.size)\n",
        "\n",
        "print(\"dtype:\", x3.dtype)\n",
        "\n",
        "print(\"itemsize\", x3.itemsize, \"bytes\")\n",
        "print(\"item nbytes\", x3.nbytes, \"bytes\")\n",
        "\n"
      ]
    },
    {
      "cell_type": "code",
      "source": [
        "lst1 = [1,2,3,4]\n",
        "array1 = np.array(lst1)"
      ],
      "metadata": {
        "id": "g2ytK9Uef15y"
      },
      "execution_count": null,
      "outputs": []
    },
    {
      "cell_type": "code",
      "source": [
        "type(lst1)"
      ],
      "metadata": {
        "colab": {
          "base_uri": "https://localhost:8080/"
        },
        "id": "FHoT4tmhf64l",
        "outputId": "c14a8027-e7d9-47d0-893b-ee1d1985fb27"
      },
      "execution_count": null,
      "outputs": [
        {
          "output_type": "execute_result",
          "data": {
            "text/plain": [
              "list"
            ]
          },
          "metadata": {},
          "execution_count": 5
        }
      ]
    },
    {
      "cell_type": "code",
      "source": [
        "type(array1)"
      ],
      "metadata": {
        "colab": {
          "base_uri": "https://localhost:8080/"
        },
        "id": "POwfc12of_aH",
        "outputId": "4afe3ec5-3830-498f-d11a-db6df44dfcae"
      },
      "execution_count": null,
      "outputs": [
        {
          "output_type": "execute_result",
          "data": {
            "text/plain": [
              "numpy.ndarray"
            ]
          },
          "metadata": {},
          "execution_count": 6
        }
      ]
    },
    {
      "cell_type": "code",
      "source": [
        "lst2 = [10, 11, 12, 13]\n",
        "array2 = np.array(lst2)"
      ],
      "metadata": {
        "id": "erClVol0gB_2"
      },
      "execution_count": null,
      "outputs": []
    },
    {
      "cell_type": "code",
      "source": [
        "print(lst1+lst2)"
      ],
      "metadata": {
        "colab": {
          "base_uri": "https://localhost:8080/"
        },
        "id": "ucCHW759gEI3",
        "outputId": "59e86e98-df2a-41d5-9d15-6e3a461314ae"
      },
      "execution_count": null,
      "outputs": [
        {
          "output_type": "stream",
          "name": "stdout",
          "text": [
            "[1, 2, 3, 4, 10, 11, 12, 13]\n"
          ]
        }
      ]
    },
    {
      "cell_type": "code",
      "source": [
        "np.random.seed(60)\n",
        "x1 = np.random.randint(11, size=6)\n",
        "x2 = np.random.randint(11, size=(5,4))\n",
        "x3 = np.random.randint(11, size=(3,2,5))"
      ],
      "metadata": {
        "id": "f4fnC9QjgHbg"
      },
      "execution_count": null,
      "outputs": []
    },
    {
      "cell_type": "code",
      "source": [
        "print(\"One dimensional array\")\n",
        "print(x1)\n",
        "print(\"Two dimensional array\")\n",
        "print(x2)\n",
        "print(\"Three dimensional array\")\n",
        "print(x3)"
      ],
      "metadata": {
        "colab": {
          "base_uri": "https://localhost:8080/"
        },
        "id": "bBAU7xlGgUyg",
        "outputId": "390eeb48-521f-44f4-a9a0-e9060e74c047"
      },
      "execution_count": null,
      "outputs": [
        {
          "output_type": "stream",
          "name": "stdout",
          "text": [
            "One dimensional array\n",
            "[ 1  6 10  3  8  9]\n",
            "Two dimensional array\n",
            "[[ 1  2  1  7]\n",
            " [10  8  5  2]\n",
            " [ 8  6  3  2]\n",
            " [ 5  0 10  3]\n",
            " [10  4  0  6]]\n",
            "Three dimensional array\n",
            "[[[10  6  9 10  5]\n",
            "  [ 7  0 10  2  5]]\n",
            "\n",
            " [[ 8  7  9  4  0]\n",
            "  [ 7  0  6  2  2]]\n",
            "\n",
            " [[ 0  8  1  6  8]\n",
            "  [ 2  9 10  2  7]]]\n"
          ]
        }
      ]
    },
    {
      "cell_type": "code",
      "source": [
        "np.random.randint(10,100,15) #this creates an array of size 15 with random elements"
      ],
      "metadata": {
        "id": "oOkHHzfWgWpM",
        "colab": {
          "base_uri": "https://localhost:8080/"
        },
        "outputId": "f40445ff-c4d4-48f4-bb38-a9601f571ba7"
      },
      "execution_count": null,
      "outputs": [
        {
          "output_type": "execute_result",
          "data": {
            "text/plain": [
              "array([85, 27, 17, 22, 65, 12, 44, 34, 20, 71, 36, 26, 49, 48, 27])"
            ]
          },
          "metadata": {},
          "execution_count": 13
        }
      ]
    },
    {
      "cell_type": "code",
      "source": [
        "mat = np.random.randint(10,100,15).reshape(5,3)\n",
        "mat"
      ],
      "metadata": {
        "colab": {
          "base_uri": "https://localhost:8080/"
        },
        "id": "yeqBuQz_hqzH",
        "outputId": "9b7c9226-fcbc-4223-8570-49881ae76e46"
      },
      "execution_count": null,
      "outputs": [
        {
          "output_type": "execute_result",
          "data": {
            "text/plain": [
              "array([[38, 87, 74],\n",
              "       [19, 75, 74],\n",
              "       [68, 70, 64],\n",
              "       [12, 58, 18],\n",
              "       [32, 52, 45]])"
            ]
          },
          "metadata": {},
          "execution_count": 16
        }
      ]
    },
    {
      "cell_type": "code",
      "source": [
        "arr2 = np.array([[1,2,3,4],\n",
        "                [5,6,7,8],\n",
        "                [9,1,2,3]])"
      ],
      "metadata": {
        "id": "vHv9WHS9kl3P"
      },
      "execution_count": null,
      "outputs": []
    },
    {
      "cell_type": "code",
      "source": [
        "arr2.shape"
      ],
      "metadata": {
        "colab": {
          "base_uri": "https://localhost:8080/"
        },
        "id": "trOpPsPslKkN",
        "outputId": "3c6a2ddb-d0a0-40c8-fe1e-7b832e44ca5c"
      },
      "execution_count": null,
      "outputs": [
        {
          "output_type": "execute_result",
          "data": {
            "text/plain": [
              "(3, 4)"
            ]
          },
          "metadata": {},
          "execution_count": 22
        }
      ]
    },
    {
      "cell_type": "code",
      "source": [],
      "metadata": {
        "id": "LsS22tTplMLV"
      },
      "execution_count": null,
      "outputs": []
    },
    {
      "cell_type": "markdown",
      "source": [
        "# Intersection of arrays"
      ],
      "metadata": {
        "id": "YkE7zQPTl05x"
      }
    },
    {
      "cell_type": "code",
      "source": [
        "arr1 = np.array([1,2,3,4])\n",
        "arr2 = np.array([5,6,7,8])\n",
        "\n",
        "newarr = np.intersect1d(arr1,arr2)\n",
        "print(newarr)"
      ],
      "metadata": {
        "colab": {
          "base_uri": "https://localhost:8080/"
        },
        "id": "P9W15Brrlk8k",
        "outputId": "606916dc-1cbd-48d8-bf88-4069d5009fba"
      },
      "execution_count": null,
      "outputs": [
        {
          "output_type": "stream",
          "name": "stdout",
          "text": [
            "[]\n"
          ]
        }
      ]
    },
    {
      "cell_type": "code",
      "source": [],
      "metadata": {
        "id": "zVAbf-Y3me1K"
      },
      "execution_count": null,
      "outputs": []
    },
    {
      "cell_type": "code",
      "source": [],
      "metadata": {
        "id": "njgxLDU8oDHP"
      },
      "execution_count": null,
      "outputs": []
    }
  ]
}