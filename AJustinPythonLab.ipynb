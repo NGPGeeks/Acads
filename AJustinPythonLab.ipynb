{
 "cells": [
  {
   "cell_type": "code",
   "execution_count": 3,
   "id": "f9349aea",
   "metadata": {},
   "outputs": [
    {
     "name": "stdout",
     "output_type": "stream",
     "text": [
      "Enter input x1: 7\n",
      "Enter input x2: 2\n",
      "Enter input y1: 4\n",
      "Enter input y2: 3\n",
      "Distance =  5.0990195135927845\n"
     ]
    }
   ],
   "source": [
    "# Problem 1\n",
    "x1 = int(input(\"Enter input x1: \"))\n",
    "x2 = int(input(\"Enter input x2: \"))\n",
    "y1 = int(input(\"Enter input y1: \"))\n",
    "y2 = int(input(\"Enter input y2: \"))\n",
    "\n",
    "distance = ((x2-x1)**2 + (y2-y1)**2)**(1/2)\n",
    "\n",
    "if (x1==x2) and (y1==y2):\n",
    "    print(\"Distance = \", distance)\n",
    "else:\n",
    "    print(\"Distance = \", distance)"
   ]
  },
  {
   "cell_type": "code",
   "execution_count": null,
   "id": "345db791",
   "metadata": {},
   "outputs": [],
   "source": []
  },
  {
   "cell_type": "code",
   "execution_count": 8,
   "id": "9921fe8e",
   "metadata": {},
   "outputs": [
    {
     "name": "stdout",
     "output_type": "stream",
     "text": [
      "Enter marks obtained in English: 95\n",
      "Enter marks obtained in Maths: 90\n",
      "Enter marks obtained in Chemistry: 80\n",
      "Enter marks obtained in Physics: 95\n",
      "Enter marks obtained in Biology: 70\n",
      "Percentage:  86.0 %\n",
      "Grade B\n"
     ]
    }
   ],
   "source": [
    "# Problem 2\n",
    "\n",
    "eng = int(input(\"Enter marks obtained in English: \"))\n",
    "math = int(input(\"Enter marks obtained in Maths: \"))\n",
    "chem = int(input(\"Enter marks obtained in Chemistry: \"))\n",
    "phy = int(input(\"Enter marks obtained in Physics: \"))\n",
    "bio = int(input(\"Enter marks obtained in Biology: \"))\n",
    "\n",
    "per = ((eng+math+chem+phy+bio)/5)\n",
    "print(\"Percentage: \",per,\"%\")\n",
    "\n",
    "if per>=90:\n",
    "    print(\"Grade A\")\n",
    "elif per>=80: \n",
    "    print(\"Grade B\")\n",
    "elif per>=70: \n",
    "    print(\"Grade C\")\n",
    "elif per>=60: \n",
    "    print(\"Grade D\")\n",
    "elif per>=40: \n",
    "    print(\"Grade E\")\n",
    "else:\n",
    "    print(\"Grade F\")\n",
    "\n",
    "\n"
   ]
  },
  {
   "cell_type": "code",
   "execution_count": null,
   "id": "62556f31",
   "metadata": {},
   "outputs": [],
   "source": []
  },
  {
   "cell_type": "code",
   "execution_count": 1,
   "id": "d83498a2",
   "metadata": {},
   "outputs": [],
   "source": [
    "# Problem 3\n",
    "a = int(input(\"Enter num1: \"))\n",
    "b = int(input(\"Enter num2: \"))\n",
    "c = int(input(\"Enter num3: \"))\n",
    "\n",
    "if (a>b) and (a>c):\n",
    "    print(\"Largest number is \",a)\n",
    "elif (b>c):\n",
    "    print(\"Largest number is \",b)\n",
    "else:\n",
    "    print(\"Largest number is \",c)\n",
    "\n",
    "    \n"
   ]
  },
  {
   "cell_type": "code",
   "execution_count": 19,
   "id": "01aacad1",
   "metadata": {},
   "outputs": [
    {
     "name": "stdout",
     "output_type": "stream",
     "text": [
      "Enter coeff of x^2: 2\n",
      "Enter coeff of x: 4\n",
      "Enter constant term: 2\n",
      "Roots are real and equal\n",
      "Both Roots are -1.0\n"
     ]
    }
   ],
   "source": [
    "# Problem 4\n",
    "\n",
    "a = int(input(\"Enter coeff of x^2: \"))\n",
    "b = int(input(\"Enter coeff of x: \"))\n",
    "c = int(input(\"Enter constant term: \"))\n",
    "\n",
    "d = b**2 - 4*a*c\n",
    "\n",
    "def isPerfectSquare(x):\n",
    "    sr = int((x)**(1/2))\n",
    "    return(sr*sr==x)\n",
    "    \n",
    "\n",
    "if d<0:\n",
    "    print(\"The roots are complex & distinct\")\n",
    "else:\n",
    "    r1 = (-b + d**(1/2))/(2*a)\n",
    "    r2 = (-b - d**(1/2))/(2*a)\n",
    "    \n",
    "    if d>0:\n",
    "        if isPerfectSquare(d):\n",
    "            print(\"Roots are real, distinct & rational\")\n",
    "        else:\n",
    "            print(\"Roots are real, distinct & irrational\")\n",
    "        print(\"Roots are: \", r1,\"and\",r2)\n",
    "    else:\n",
    "        print(\"Roots are real and equal\")\n",
    "        print(\"Both Roots are\", r1)\n",
    "    "
   ]
  },
  {
   "cell_type": "code",
   "execution_count": 20,
   "id": "bb77c6da",
   "metadata": {},
   "outputs": [
    {
     "name": "stdout",
     "output_type": "stream",
     "text": [
      "Enter angle a: 60\n",
      "Enter angle b: 60\n",
      "Enter angle c: 60\n",
      "It is a valid Triangle\n"
     ]
    }
   ],
   "source": [
    "# Problem 5\n",
    "\n",
    "a = int(input(\"Enter angle a: \"))\n",
    "b = int(input(\"Enter angle b: \"))\n",
    "c= int(input(\"Enter angle c: \"))\n",
    "s = a+b+c\n",
    "if s==180 and a>0 and b>0 and c>0:\n",
    "    print(\"It is a valid Triangle\")\n",
    "else:\n",
    "    print(\"It is not a valid Triangle\")"
   ]
  },
  {
   "cell_type": "code",
   "execution_count": 5,
   "id": "25feb1d7",
   "metadata": {},
   "outputs": [
    {
     "name": "stdout",
     "output_type": "stream",
     "text": [
      "Enter salary: 25000\n",
      "Gross Salary =  56250.0\n"
     ]
    }
   ],
   "source": [
    "# Problem 6\n",
    "\n",
    "bsal = int(input(\"Enter basic salary: \"))\n",
    "if bsal <= 10000:\n",
    "    gsal = bsal+ 0.2*bsal + 0.8*bsal\n",
    "elif bsal <= 20000:\n",
    "    gsal = bsal+ 0.25*bsal + 0.9*bsal\n",
    "elif bsal <= 30000:\n",
    "    gsal = bsal+ 0.3*bsal + 0.95*bsal\n",
    "else:\n",
    "    print(\"Enter value less than 30000\")\n",
    "print(\"Gross Salary = \", gsal)"
   ]
  },
  {
   "cell_type": "code",
   "execution_count": 4,
   "id": "3598ac79",
   "metadata": {},
   "outputs": [
    {
     "name": "stdout",
     "output_type": "stream",
     "text": [
      "Enter x1: 4\n",
      "Enter x2: 4\n",
      "Enter y1: 4\n",
      "Enter y2: 4\n",
      "4\n",
      "Distance: 0.0\n"
     ]
    }
   ],
   "source": [
    "x1 = int(input(\"Enter x1: \"))\n",
    "x2 = int(input(\"Enter x2: \"))\n",
    "y1 = int(input(\"Enter y1: \"))\n",
    "y2 = int(input(\"Enter y2: \"))\n",
    "\n",
    "dist = ((x2-x1)**2 + (y2-y1)**2)**(0.5)\n",
    "print(\"Distance:\",dist)"
   ]
  },
  {
   "cell_type": "code",
   "execution_count": 9,
   "id": "5f87dd53",
   "metadata": {},
   "outputs": [
    {
     "name": "stdout",
     "output_type": "stream",
     "text": [
      "$ $ $ $ $ $  \n",
      "$ $ $ $ $ $  \n",
      "$ $ $ $ $ $  \n",
      "$ $ $ $ $ $  \n",
      "$ $ $ $ $ $  \n",
      "$ $ $ $ $ $  \n"
     ]
    }
   ],
   "source": [
    "n = 10\n",
    "count = 0\n",
    "for i in range(0,n):\n",
    "    for j in range(0,n):\n",
    "        \n",
    "    print(\" \")"
   ]
  },
  {
   "cell_type": "code",
   "execution_count": 12,
   "id": "5a2bc88c",
   "metadata": {},
   "outputs": [
    {
     "name": "stdout",
     "output_type": "stream",
     "text": [
      "* * * *  \n",
      "* * *  \n",
      "* *  \n",
      "*  \n",
      " \n"
     ]
    }
   ],
   "source": [
    "for i in range(0,5):\n",
    "    for j in range (0,5):\n",
    "        if(j<(5-i-1)):\n",
    "            print(\"*\",end=\" \")\n",
    "    print(\" \")"
   ]
  },
  {
   "cell_type": "code",
   "execution_count": 18,
   "id": "156148e3",
   "metadata": {},
   "outputs": [
    {
     "name": "stdout",
     "output_type": "stream",
     "text": [
      "\n",
      "     *\n",
      "    **\n",
      "   ***\n",
      "  ****\n",
      " *****"
     ]
    }
   ],
   "source": [
    "for i in range(5):\n",
    "    print()\n",
    "    for i in range(5-i):\n",
    "        print(\" \",end='')\n",
    "    for i in range(5-i):\n",
    "        print('*',end='')\n",
    "#         if(j<(5-i-1)):\n",
    "#             print(\" \",end=\" \")\n",
    "#         else:\n",
    "#             print(\"*\")\n",
    "#     print(\" \")"
   ]
  },
  {
   "cell_type": "code",
   "execution_count": 19,
   "id": "ea6e90cd",
   "metadata": {},
   "outputs": [
    {
     "name": "stdout",
     "output_type": "stream",
     "text": [
      "    *  \n",
      "   * *  \n",
      "  * * *  \n",
      " * * * *  \n",
      "* * * * *  \n"
     ]
    }
   ],
   "source": [
    "for i in range(0,5):\n",
    "    for j in range (0,5):\n",
    "        if(j<(5-i-1)):\n",
    "            print(\" \",end=\"\")\n",
    "        else:\n",
    "            print(\"*\", end=\" \")\n",
    "    print(\" \")"
   ]
  },
  {
   "cell_type": "code",
   "execution_count": 29,
   "id": "1622f4dd",
   "metadata": {},
   "outputs": [
    {
     "name": "stdout",
     "output_type": "stream",
     "text": [
      "Enter basic salary: 25000\n",
      "Gross Salary =  56250.0\n"
     ]
    }
   ],
   "source": [
    "# Problem 6\n",
    "\n",
    "bsal = float(input(\"Enter basic salary: \"))\n",
    "if bsal <= 10000:\n",
    "    gsal = bsal+ 0.2*bsal + 0.8*bsal\n",
    "elif bsal <= 20000:\n",
    "    gsal = bsal+ 0.25*bsal + 0.9*bsal\n",
    "elif bsal <= 30000:\n",
    "    gsal = bsal+ 0.3*bsal + 0.95*bsal\n",
    "else:\n",
    "    print(\"Enter value less than 30000\")\n",
    "print(\"Gross Salary = \", gsal)"
   ]
  },
  {
   "cell_type": "code",
   "execution_count": 23,
   "id": "e792c1b9",
   "metadata": {
    "scrolled": true
   },
   "outputs": [
    {
     "name": "stdout",
     "output_type": "stream",
     "text": [
      "* * * * *  \n",
      "* * * * *  \n",
      "* * * * *  \n",
      "* * * * *  \n",
      "* * * * *  \n",
      "* * * * *  \n",
      "* * * * *  \n",
      "* * * * *  \n",
      "* * * * *  \n",
      "* * * * *  \n"
     ]
    }
   ],
   "source": [
    "for i in range(0,5):\n",
    "    for j in range (0,5):\n",
    "        print(\"*\", end=\" \")\n",
    "    print(\" \")"
   ]
  },
  {
   "cell_type": "code",
   "execution_count": null,
   "id": "96002fb4",
   "metadata": {},
   "outputs": [],
   "source": [
    "side=int(input())\n",
    "c='*'\n",
    "for i in range(side):\n",
    "    print((c*(i+1)).ljust(side-1))\n",
    "    "
   ]
  },
  {
   "cell_type": "code",
   "execution_count": null,
   "id": "d8dc40b8",
   "metadata": {},
   "outputs": [
    {
     "name": "stdout",
     "output_type": "stream",
     "text": [
      "* "
     ]
    }
   ],
   "source": [
    "for i in range(0,6):\n",
    "    for j in range(0,9):\n",
    "        if(i==0 and j==4):\n",
    "            print(\"*\",end=\" \")\n",
    "        if(i==1 and j== )"
   ]
  },
  {
   "cell_type": "code",
   "execution_count": null,
   "id": "c6cb090b",
   "metadata": {},
   "outputs": [],
   "source": [
    "x= int(input(\"Enter x: \"))\n",
    "temp=x\n"
   ]
  }
 ],
 "metadata": {
  "kernelspec": {
   "display_name": "Python 3.10.6 64-bit",
   "language": "python",
   "name": "python3"
  },
  "language_info": {
   "codemirror_mode": {
    "name": "ipython",
    "version": 3
   },
   "file_extension": ".py",
   "mimetype": "text/x-python",
   "name": "python",
   "nbconvert_exporter": "python",
   "pygments_lexer": "ipython3",
   "version": "3.10.6"
  },
  "vscode": {
   "interpreter": {
    "hash": "31671a60cee805c34c73116577b485118ff3a75c458d3004d49632c19702ac60"
   }
  }
 },
 "nbformat": 4,
 "nbformat_minor": 5
}
