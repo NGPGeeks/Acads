{
 "cells": [
  {
   "cell_type": "code",
   "execution_count": 3,
   "id": "f9349aea",
   "metadata": {},
   "outputs": [
    {
     "name": "stdout",
     "output_type": "stream",
     "text": [
      "Enter input x1: 7\n",
      "Enter input x2: 2\n",
      "Enter input y1: 4\n",
      "Enter input y2: 3\n",
      "Distance =  5.0990195135927845\n"
     ]
    }
   ],
   "source": [
    "# Problem 1\n",
    "x1 = int(input(\"Enter input x1: \"))\n",
    "x2 = int(input(\"Enter input x2: \"))\n",
    "y1 = int(input(\"Enter input y1: \"))\n",
    "y2 = int(input(\"Enter input y2: \"))\n",
    "\n",
    "distance = ((x2-x1)**2 + (y2-y1)**2)**(1/2)\n",
    "\n",
    "if (x1==x2) and (y1==y2):\n",
    "    print(\"Distance = \", distance)\n",
    "else:\n",
    "    print(\"Distance = \", distance)"
   ]
  },
  {
   "cell_type": "code",
   "execution_count": 8,
   "id": "9921fe8e",
   "metadata": {},
   "outputs": [
    {
     "name": "stdout",
     "output_type": "stream",
     "text": [
      "Enter marks obtained in English: 95\n",
      "Enter marks obtained in Maths: 90\n",
      "Enter marks obtained in Chemistry: 80\n",
      "Enter marks obtained in Physics: 95\n",
      "Enter marks obtained in Biology: 70\n",
      "Percentage:  86.0 %\n",
      "Grade B\n"
     ]
    }
   ],
   "source": [
    "# Problem 2\n",
    "\n",
    "eng = int(input(\"Enter marks obtained in English: \"))\n",
    "math = int(input(\"Enter marks obtained in Maths: \"))\n",
    "chem = int(input(\"Enter marks obtained in Chemistry: \"))\n",
    "phy = int(input(\"Enter marks obtained in Physics: \"))\n",
    "bio = int(input(\"Enter marks obtained in Biology: \"))\n",
    "\n",
    "per = ((eng+math+chem+phy+bio)/5)\n",
    "print(\"Percentage: \",per,\"%\")\n",
    "\n",
    "if per>=90:\n",
    "    print(\"Grade A\")\n",
    "elif per>=80: \n",
    "    print(\"Grade B\")\n",
    "elif per>=70: \n",
    "    print(\"Grade C\")\n",
    "elif per>=60: \n",
    "    print(\"Grade D\")\n",
    "elif per>=40: \n",
    "    print(\"Grade E\")\n",
    "else:\n",
    "    print(\"Grade F\")\n",
    "\n",
    "\n"
   ]
  },
  {
   "cell_type": "code",
   "execution_count": 9,
   "id": "d83498a2",
   "metadata": {},
   "outputs": [
    {
     "name": "stdout",
     "output_type": "stream",
     "text": [
      "Enter num1: 4\n",
      "Enter num2: 5\n",
      "Enter num3: 9\n",
      "Largest number is  9\n"
     ]
    }
   ],
   "source": [
    "# Problem 3\n",
    "a = int(input(\"Enter num1: \"))\n",
    "b = int(input(\"Enter num2: \"))\n",
    "c = int(input(\"Enter num3: \"))\n",
    "\n",
    "if (a>b) and (a>c):\n",
    "    print(\"Largest number is \",a)\n",
    "elif (b>c):\n",
    "    print(\"Largest number is \",b)\n",
    "else:\n",
    "    print(\"Largest number is \",c)\n",
    "\n",
    "    \n"
   ]
  },
  {
   "cell_type": "code",
   "execution_count": 19,
   "id": "01aacad1",
   "metadata": {},
   "outputs": [
    {
     "name": "stdout",
     "output_type": "stream",
     "text": [
      "Enter coeff of x^2: 2\n",
      "Enter coeff of x: 4\n",
      "Enter constant term: 2\n",
      "Roots are real and equal\n",
      "Both Roots are -1.0\n"
     ]
    }
   ],
   "source": [
    "# Problem 4\n",
    "\n",
    "a = int(input(\"Enter coeff of x^2: \"))\n",
    "b = int(input(\"Enter coeff of x: \"))\n",
    "c = int(input(\"Enter constant term: \"))\n",
    "\n",
    "d = b**2 - 4*a*c\n",
    "\n",
    "def isPerfectSquare(x):\n",
    "    sr = int((x)**(1/2))\n",
    "    return(sr*sr==x)\n",
    "    \n",
    "\n",
    "if d<0:\n",
    "    print(\"The roots are complex & distinct\")\n",
    "else:\n",
    "    r1 = (-b + d**(1/2))/(2*a)\n",
    "    r2 = (-b - d**(1/2))/(2*a)\n",
    "    \n",
    "    if d>0:\n",
    "        if isPerfectSquare(d):\n",
    "            print(\"Roots are real, distinct & rational\")\n",
    "        else:\n",
    "            print(\"Roots are real, distinct & irrational\")\n",
    "        print(\"Roots are: \", r1,\"and\",r2)\n",
    "    else:\n",
    "        print(\"Roots are real and equal\")\n",
    "        print(\"Both Roots are\", r1)\n",
    "    "
   ]
  },
  {
   "cell_type": "code",
   "execution_count": 20,
   "id": "bb77c6da",
   "metadata": {},
   "outputs": [
    {
     "name": "stdout",
     "output_type": "stream",
     "text": [
      "Enter angle a: 60\n",
      "Enter angle b: 60\n",
      "Enter angle c: 60\n",
      "It is a valid Triangle\n"
     ]
    }
   ],
   "source": [
    "# Problem 5\n",
    "\n",
    "a = int(input(\"Enter angle a: \"))\n",
    "b = int(input(\"Enter angle b: \"))\n",
    "c= int(input(\"Enter angle c: \"))\n",
    "s = a+b+c\n",
    "if s==180 and a>0 and b>0 and c>0:\n",
    "    print(\"It is a valid Triangle\")\n",
    "else:\n",
    "    print(\"It is not a valid Triangle\")"
   ]
  },
  {
   "cell_type": "code",
   "execution_count": 5,
   "id": "25feb1d7",
   "metadata": {},
   "outputs": [],
   "source": [
    "\n",
    "# bsal = float(input(\"Enter salary: \"))\n",
    "# if bsal <= 10000:\n",
    "#     hra = (20/100)*bsal"
   ]
  },
  {
   "cell_type": "code",
   "execution_count": 1,
   "id": "33daa4ac",
   "metadata": {},
   "outputs": [],
   "source": [
    "# for i in range(0,10):\n",
    "#     for j in range(i,10):\n",
    "#         print(\"$\",end=\" \")\n",
    "#     print(\" \")"
   ]
  },
  {
   "cell_type": "code",
   "execution_count": 2,
   "id": "39c3c0e8",
   "metadata": {},
   "outputs": [],
   "source": [
    "# for i in range(0,10):\n",
    "#     for j in range(0,10):\n",
    "#         if j<i:\n",
    "#             print(\" \",end=\" \")\n",
    "#         else:\n",
    "#             print(\"$\",end=\" \")\n",
    "#     print(\" \")"
   ]
  },
  {
   "cell_type": "code",
   "execution_count": 4,
   "id": "3598ac79",
   "metadata": {},
   "outputs": [],
   "source": [
    "# for i in range(1,20,2):\n",
    "#     print(i)"
   ]
  },
  {
   "cell_type": "code",
   "execution_count": 3,
   "id": "8e19dae3",
   "metadata": {},
   "outputs": [],
   "source": [
    "# n = int(input(\"Enter n: \"))\n",
    "# sum = 0\n",
    "# for i in range(1,n+1):\n",
    "#     ele = 1/(2**i)\n",
    "#     print(ele, end = \" \")\n",
    "# #     print(1,\"/\",2**i, end=\" \")\n",
    "#     sum+= ele\n",
    "# print(\"\\nSum: \", sum)"
   ]
  },
  {
   "cell_type": "code",
   "execution_count": null,
   "id": "b15934e5",
   "metadata": {},
   "outputs": [],
   "source": [
    "# n = int(input())\n",
    "# k = float(input())\n"
   ]
  },
  {
   "cell_type": "code",
   "execution_count": 8,
   "id": "ff235f92",
   "metadata": {},
   "outputs": [
    {
     "name": "stdout",
     "output_type": "stream",
     "text": [
      "Enter the value of n: \n",
      "5\n",
      "The sum of series is,  1.2833333333333332\n"
     ]
    }
   ],
   "source": [
    "# Problem 15. Write a Python program to print the sum of the series 1/2+1/3+1/4+ ... +1/N. Where N is natural \n",
    "# number\n",
    "print(\"Enter the value of n: \")\n",
    "n = int(input());\n",
    "def sumFunc(n):\n",
    "    sum = 0\n",
    "    for i in range(2, n+1):\n",
    "        sum += 1/i;\n",
    "    return sum\n",
    "print(\"The sum of series is, \", sumFunc(n));\n"
   ]
  },
  {
   "cell_type": "code",
   "execution_count": 10,
   "id": "240303ce",
   "metadata": {},
   "outputs": [
    {
     "name": "stdout",
     "output_type": "stream",
     "text": [
      "Enter number: \n",
      "5\n",
      "Enter number: \n",
      "5\n",
      "Enter number: \n",
      "5\n",
      "Enter number: \n",
      "0\n",
      "Total Sum:  15\n"
     ]
    }
   ],
   "source": [
    "# Problem 16. Write a Python program that prompts user to enter numbers. The process will repeat until user enters 0. \n",
    "# Finally, the program prints sum of the numbers entered by the user.\n",
    "\n",
    "sum = 0;\n",
    "print(\"Enter number: \")\n",
    "n = int(input())\n",
    "if n != 0:\n",
    "    sum +=n;\n",
    "    while(n != 0):\n",
    "        print(\"Enter number: \")\n",
    "        n = int(input())\n",
    "        sum +=n\n",
    "print(\"Total Sum: \", sum)\n"
   ]
  },
  {
   "cell_type": "code",
   "execution_count": null,
   "id": "440146d5",
   "metadata": {},
   "outputs": [],
   "source": []
  }
 ],
 "metadata": {
  "kernelspec": {
   "display_name": "Python 3 (ipykernel)",
   "language": "python",
   "name": "python3"
  },
  "language_info": {
   "codemirror_mode": {
    "name": "ipython",
    "version": 3
   },
   "file_extension": ".py",
   "mimetype": "text/x-python",
   "name": "python",
   "nbconvert_exporter": "python",
   "pygments_lexer": "ipython3",
   "version": "3.9.12"
  }
 },
 "nbformat": 4,
 "nbformat_minor": 5
}
